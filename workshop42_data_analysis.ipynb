{
 "cells": [
  {
   "cell_type": "markdown",
   "metadata": {},
   "source": [
    "# Python Beginner Workshop fot Data Science\n",
    "# Part II. Introduction to Data Analysis 🐧"
   ]
  },
  {
   "cell_type": "markdown",
   "metadata": {},
   "source": [
    "In this part, we will be working with a Penguins dataset to get an overview of data analysis in Python."
   ]
  },
  {
   "cell_type": "markdown",
   "metadata": {},
   "source": [
    "Data that we work with is usually stored in files (e.g. in .csv format) and if you are planning to dive deeper in data analysis, it is very important to know how to handle files appropriately. You can check out this tutorial to get an overview of basic approaches and commands: https://python.land/operating-system/python-files."
   ]
  },
  {
   "cell_type": "markdown",
   "metadata": {},
   "source": [
    "For simplicity, we will not touch on that part now. Instead, we will use a `Seaborn` library that is mostly used for statistical plotting (visualization) in Python but also contains some datasets which can be used for basic exploratory data analysis. \n",
    "\n",
    "Let's first import `Seaborn`:"
   ]
  },
  {
   "cell_type": "code",
   "execution_count": 1,
   "metadata": {},
   "outputs": [],
   "source": [
    "import seaborn as sns"
   ]
  },
  {
   "cell_type": "code",
   "execution_count": null,
   "metadata": {},
   "outputs": [],
   "source": [
    "# Checking which datasets are offered by Seaborn\n",
    "print(sns.get_dataset_names())"
   ]
  },
  {
   "cell_type": "markdown",
   "metadata": {},
   "source": [
    "You can check out each of these datasets here: https://github.com/mwaskom/seaborn-data."
   ]
  },
  {
   "cell_type": "markdown",
   "metadata": {},
   "source": [
    "### **Understanding the Dataset and Importing Libraries**"
   ]
  },
  {
   "cell_type": "markdown",
   "metadata": {},
   "source": [
    "Let's load our dataset using a Seaborn built-in `load_dataset()` method."
   ]
  },
  {
   "cell_type": "code",
   "execution_count": 3,
   "metadata": {},
   "outputs": [],
   "source": [
    "df=sns.load_dataset('penguins') # df here stands for data frame (you can also use a different variable name)"
   ]
  },
  {
   "cell_type": "markdown",
   "metadata": {},
   "source": [
    "**DataFrame** is a two-dimensional data structure that consists of three components: data, rows and columns."
   ]
  },
  {
   "cell_type": "markdown",
   "metadata": {},
   "source": [
    "Let's see how it looks:"
   ]
  },
  {
   "cell_type": "code",
   "execution_count": null,
   "metadata": {},
   "outputs": [],
   "source": [
    "df"
   ]
  },
  {
   "cell_type": "code",
   "execution_count": null,
   "metadata": {},
   "outputs": [],
   "source": [
    "df.head()"
   ]
  },
  {
   "cell_type": "code",
   "execution_count": null,
   "metadata": {},
   "outputs": [],
   "source": [
    "df.shape"
   ]
  },
  {
   "cell_type": "code",
   "execution_count": null,
   "metadata": {},
   "outputs": [],
   "source": [
    "df.columns"
   ]
  },
  {
   "cell_type": "markdown",
   "metadata": {},
   "source": [
    "**Penguins Columns Features**\n",
    "\n",
    "`species`: a factor denoting penguin type (Adélie, Chinstrap and Gentoo)\n",
    "\n",
    "`island`: a factor denoting island in Palmer Archipelago, Antarctica (Biscoe, Dream or Torgersen)\n",
    "\n",
    "`bill_length_mm`: a number denoting bill length (millimeters)\n",
    "\n",
    "`bill_depth_mm`: a number denoting bill depth (millimeters)\n",
    "\n",
    "`flipper_length_mm`: an integer denoting flipper length (millimeters)\n",
    "\n",
    "`body_mass_g`: an integer denoting body mass (grams)\n",
    "\n",
    "`sex`: a factor denoting sexuality (female, male)\n",
    "\n"
   ]
  },
  {
   "cell_type": "markdown",
   "metadata": {},
   "source": [
    "\n",
    "Let's now import other libraries that we will use for data analysis.\n",
    "\n",
    "\n",
    "`NumPy` (short for Numercial Python): a Python library used for scientific computing that allows us to work with multi-dimensional arrays and matrices.\n",
    "\n",
    "`pandas`: library used for working with datasets. Contains functions for analyzing, cleaning, exploring, and manipulating data.\n",
    "\n",
    "`Matplotlib`: a library for creating static, animated, and interactive visualizations in Python"
   ]
  },
  {
   "cell_type": "code",
   "execution_count": 8,
   "metadata": {},
   "outputs": [],
   "source": [
    "import numpy as np\n",
    "import pandas as pd\n",
    "import matplotlib.pyplot as plt"
   ]
  },
  {
   "cell_type": "markdown",
   "metadata": {},
   "source": [
    "We can use DataFrame `describe()` pandas method to view some basic statistical details about the dataset."
   ]
  },
  {
   "cell_type": "code",
   "execution_count": null,
   "metadata": {},
   "outputs": [],
   "source": [
    "df.describe()"
   ]
  },
  {
   "cell_type": "markdown",
   "metadata": {},
   "source": [
    "And get information about the data frame with DataFrame `info()` pandas method."
   ]
  },
  {
   "cell_type": "code",
   "execution_count": null,
   "metadata": {},
   "outputs": [],
   "source": [
    "df.info()"
   ]
  },
  {
   "cell_type": "markdown",
   "metadata": {},
   "source": [
    "### **Data Cleaning**"
   ]
  },
  {
   "cell_type": "markdown",
   "metadata": {},
   "source": [
    "Real-world data is most often very noisy, might contain some missing values, duplicates, outliers, be incorrectly formatted or mislabeled within the dataset."
   ]
  },
  {
   "cell_type": "markdown",
   "metadata": {},
   "source": [
    "**Data Cleaning** is an essential step in data analysis that ensures the accuracy, consistency, and completeness of the data used for analysis. "
   ]
  },
  {
   "cell_type": "markdown",
   "metadata": {},
   "source": [
    "For example, we might want to first check whether our dataset has any missing data. Missing data is commonly recorded as `NaN`, Not a Number, value (available through the **NumPy** library)."
   ]
  },
  {
   "cell_type": "markdown",
   "metadata": {},
   "source": [
    "Let's use pandas `isnull()` built-in method (for a DataFrame structure) to detect missing values in our dataset and `sum()` to see how many missing values are in each feature column:"
   ]
  },
  {
   "cell_type": "code",
   "execution_count": null,
   "metadata": {},
   "outputs": [],
   "source": [
    "df.isnull().sum()"
   ]
  },
  {
   "cell_type": "markdown",
   "metadata": {},
   "source": [
    "We don't have that many rows with missing values (among 344 data entries), so we can disregard them in our analysis.\n",
    "\n",
    "We will do that using a DataFrame `dropna()` pandas method. "
   ]
  },
  {
   "cell_type": "code",
   "execution_count": 12,
   "metadata": {},
   "outputs": [],
   "source": [
    "df.dropna(inplace=True)"
   ]
  },
  {
   "cell_type": "markdown",
   "metadata": {},
   "source": [
    "Let's check the documentation for this method to understand why we use `inplace=True` argument:\n",
    "https://pandas.pydata.org/docs/reference/api/pandas.DataFrame.dropna.html"
   ]
  },
  {
   "cell_type": "code",
   "execution_count": null,
   "metadata": {},
   "outputs": [],
   "source": [
    "df.isnull().sum()"
   ]
  },
  {
   "cell_type": "markdown",
   "metadata": {},
   "source": [
    "We can see that our dataframe now does not contain any missing values."
   ]
  },
  {
   "cell_type": "code",
   "execution_count": null,
   "metadata": {},
   "outputs": [],
   "source": [
    "len(df)"
   ]
  },
  {
   "cell_type": "markdown",
   "metadata": {},
   "source": [
    "Checking for missing value is, of course, not the only important aspect of data cleaning and preparation.\n",
    "\n",
    "If you would like to learn a bit more, then check out this short Beginner's Guide to Data Cleaning by DataCamp: https://www.datacamp.com/tutorial/guide-to-data-cleaning-in-python."
   ]
  },
  {
   "cell_type": "markdown",
   "metadata": {},
   "source": [
    "### **Exploratory Data Analysis**"
   ]
  },
  {
   "cell_type": "markdown",
   "metadata": {},
   "source": [
    "#### **Pie Chart**"
   ]
  },
  {
   "cell_type": "markdown",
   "metadata": {},
   "source": [
    "Let's day we first would like to see how many penguins of each species there are in the dataset (as %)."
   ]
  },
  {
   "cell_type": "markdown",
   "metadata": {},
   "source": [
    "A **pie chart** is perfect to illustrate numerical proportion."
   ]
  },
  {
   "cell_type": "markdown",
   "metadata": {},
   "source": [
    "We use DataFrame `value_counts()` pandas method:"
   ]
  },
  {
   "cell_type": "code",
   "execution_count": null,
   "metadata": {},
   "outputs": [],
   "source": [
    "Species = df.species.value_counts()\n",
    "Species"
   ]
  },
  {
   "cell_type": "markdown",
   "metadata": {},
   "source": [
    "We can use **pandas** to create some simple plots:"
   ]
  },
  {
   "cell_type": "code",
   "execution_count": null,
   "metadata": {},
   "outputs": [],
   "source": [
    "Species.plot(kind=\"pie\", colors=[\"c\", \"m\", \"lightblue\"], ylabel=\"\", autopct=\"%.2f%%\");"
   ]
  },
  {
   "cell_type": "markdown",
   "metadata": {},
   "source": [
    "Find out which other parameters can be specified for `pandas.DataFrame.plot` in the documentation: https://pandas.pydata.org/docs/reference/api/pandas.DataFrame.plot.html."
   ]
  },
  {
   "cell_type": "markdown",
   "metadata": {},
   "source": [
    "**Exercise**\n",
    "\n",
    "Create a pie chart that shows percentage of Male and Female penguins in the dataset."
   ]
  },
  {
   "cell_type": "code",
   "execution_count": 17,
   "metadata": {},
   "outputs": [],
   "source": [
    "# Your solution goes here\n",
    "\n"
   ]
  },
  {
   "cell_type": "markdown",
   "metadata": {},
   "source": [
    "#### **Histogram**"
   ]
  },
  {
   "cell_type": "markdown",
   "metadata": {},
   "source": [
    "Let's say we now want to see how the value of some variable is distributed in the dataset."
   ]
  },
  {
   "cell_type": "markdown",
   "metadata": {},
   "source": [
    "A **histogram** is a great chart to visually represent distribution of data as series of bars."
   ]
  },
  {
   "cell_type": "markdown",
   "metadata": {},
   "source": [
    "This time we'll use **Matplotlib** for plotting."
   ]
  },
  {
   "cell_type": "code",
   "execution_count": null,
   "metadata": {},
   "outputs": [],
   "source": [
    "flipper_length = df.flipper_length_mm\n",
    "flipper_length"
   ]
  },
  {
   "cell_type": "code",
   "execution_count": null,
   "metadata": {},
   "outputs": [],
   "source": [
    "plt.hist(flipper_length, bins=15, color=\"lightblue\", edgecolor='#169acf')  # 'bins' argument controls the number of bars in the histogram\n",
    "\n",
    "plt.title('Flipper Length')  # Optionally setting a title\n",
    "plt.xlabel('Flipper length (mm)')  # Setting the x-axis label\n",
    "plt.ylabel('Frequency')  # Optionally setting the y-axis label\n",
    "plt.grid(axis='y', alpha=0.3)\n",
    "\n",
    "plt.show() # Displaying the plot"
   ]
  },
  {
   "cell_type": "markdown",
   "metadata": {},
   "source": [
    "Refer here for `matplotlib.pyplot.hist` documentation: https://matplotlib.org/stable/api/_as_gen/matplotlib.pyplot.hist.html."
   ]
  },
  {
   "cell_type": "markdown",
   "metadata": {},
   "source": [
    "**Exercise**\n",
    "\n",
    "Create a histogram that shows the distribution of a body mass variable value."
   ]
  },
  {
   "cell_type": "code",
   "execution_count": 20,
   "metadata": {},
   "outputs": [],
   "source": [
    "# Your solution goes here\n",
    "\n"
   ]
  },
  {
   "cell_type": "markdown",
   "metadata": {},
   "source": [
    "#### **Scatter Plot**"
   ]
  },
  {
   "cell_type": "markdown",
   "metadata": {},
   "source": [
    "Sometimes we might want to see the relationship between two variables looking at each data point more closely. For this, scatter plot would be a useful visualisation tool."
   ]
  },
  {
   "cell_type": "markdown",
   "metadata": {},
   "source": [
    "A **scatterplot** is a type of data display that shows the relationship between two numerical variables. "
   ]
  },
  {
   "cell_type": "markdown",
   "metadata": {},
   "source": [
    "We will create a scatter plot with the help of **Seaborn** library. For example, let's look at the scatter plot of bill lengths and depths by penguin species."
   ]
  },
  {
   "cell_type": "code",
   "execution_count": null,
   "metadata": {},
   "outputs": [],
   "source": [
    "# We can improve the resolution of the plot by setting DPI (Dots Per Inch)\n",
    "# plt.figure(dpi=300)\n",
    "\n",
    "sns.scatterplot(x=\"bill_length_mm\", y=\"bill_depth_mm\", data=df, hue=\"species\")\n",
    "plt.title(\"Bill Length vs Bill Depth\", size=20, color=\"red\");"
   ]
  },
  {
   "cell_type": "markdown",
   "metadata": {},
   "source": [
    "Refer to `seaborn.scatterplot` to look closer at the parameters: https://seaborn.pydata.org/generated/seaborn.scatterplot.html."
   ]
  },
  {
   "cell_type": "markdown",
   "metadata": {},
   "source": [
    "**Exercise**\n",
    "\n",
    "Create a scatter plot to see the the relationship between penguins' body mass and flipper length. Group them by species."
   ]
  },
  {
   "cell_type": "code",
   "execution_count": 22,
   "metadata": {},
   "outputs": [],
   "source": [
    "# Your solution goes here\n",
    "\n"
   ]
  }
 ],
 "metadata": {
  "kernelspec": {
   "display_name": "Python 3",
   "language": "python",
   "name": "python3"
  },
  "language_info": {
   "codemirror_mode": {
    "name": "ipython",
    "version": 3
   },
   "file_extension": ".py",
   "mimetype": "text/x-python",
   "name": "python",
   "nbconvert_exporter": "python",
   "pygments_lexer": "ipython3",
   "version": "3.12.0"
  }
 },
 "nbformat": 4,
 "nbformat_minor": 2
}
